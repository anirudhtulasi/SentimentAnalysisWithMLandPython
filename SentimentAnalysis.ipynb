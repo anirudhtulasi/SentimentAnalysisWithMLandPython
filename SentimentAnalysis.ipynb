{
  "nbformat": 4,
  "nbformat_minor": 0,
  "metadata": {
    "colab": {
      "name": "sen_analysis.ipynb",
      "provenance": [],
      "collapsed_sections": []
    },
    "kernelspec": {
      "name": "python3",
      "display_name": "Python 3"
    }
  },
  "cells": [
    {
      "cell_type": "code",
      "metadata": {
        "id": "hp-ymWOsb7_i",
        "colab_type": "code",
        "colab": {}
      },
      "source": [
        "#Sentiment Analysis of Web Article\n"
      ],
      "execution_count": 0,
      "outputs": []
    },
    {
      "cell_type": "code",
      "metadata": {
        "id": "8CeRMzJHcJT0",
        "colab_type": "code",
        "colab": {}
      },
      "source": [
        "pip install newspaper3k\n"
      ],
      "execution_count": 0,
      "outputs": []
    },
    {
      "cell_type": "code",
      "metadata": {
        "id": "VFKBqd7qcXkd",
        "colab_type": "code",
        "colab": {}
      },
      "source": [
        "#Import the lib\n",
        "from textblob import TextBlob\n",
        "import nltk\n",
        "from newspaper import Article"
      ],
      "execution_count": 0,
      "outputs": []
    },
    {
      "cell_type": "code",
      "metadata": {
        "id": "LQGdLRA6ch7p",
        "colab_type": "code",
        "colab": {}
      },
      "source": [
        "#Get the article\n",
        "url = 'https://timesofindia.indiatimes.com/city/visakhapatnam/interdisciplinary-law-and-medical-conference-at-gitam/articleshow/74142305.cms'\n",
        "article = Article(url)"
      ],
      "execution_count": 0,
      "outputs": []
    },
    {
      "cell_type": "code",
      "metadata": {
        "id": "Kq_R-itoc2T3",
        "colab_type": "code",
        "colab": {
          "base_uri": "https://localhost:8080/",
          "height": 51
        },
        "outputId": "43d3a861-0a20-4efe-bd9d-2f77a46ed408"
      },
      "source": [
        "#NLP\n",
        "article.download()\n",
        "article.parse()\n",
        "nltk.download('punkt')\n",
        "article.nlp()"
      ],
      "execution_count": 5,
      "outputs": [
        {
          "output_type": "stream",
          "text": [
            "[nltk_data] Downloading package punkt to /root/nltk_data...\n",
            "[nltk_data]   Unzipping tokenizers/punkt.zip.\n"
          ],
          "name": "stdout"
        }
      ]
    },
    {
      "cell_type": "code",
      "metadata": {
        "id": "FGUexLabdP27",
        "colab_type": "code",
        "colab": {
          "base_uri": "https://localhost:8080/",
          "height": 105
        },
        "outputId": "6633ef2a-c99b-41ff-8bce-8ea7346e2f37"
      },
      "source": [
        "#Get the summary of the article\n",
        "text = article.summary\n",
        "\n",
        "#Print the text\n",
        "print(text)"
      ],
      "execution_count": 6,
      "outputs": [
        {
          "output_type": "stream",
          "text": [
            "Visakhapatnam: The Gitam School of Law and the Gitam Institute of Medical Sciences and Research jointly organised a national-level conference on ‘Law & Medicine: An Interdisciplinary Perspection’ on Friday.\n",
            "Former chief justice of Delhi high court G Rohini attended the conference as chief guest.\n",
            "She said, “People should never take law into their own hands even when there is apprehension of medical negligence.\n",
            "This could lead to destruction of the doctor-patient relationship.”\n"
          ],
          "name": "stdout"
        }
      ]
    },
    {
      "cell_type": "code",
      "metadata": {
        "id": "3cc336RrdpdE",
        "colab_type": "code",
        "colab": {
          "base_uri": "https://localhost:8080/",
          "height": 34
        },
        "outputId": "045ee0cb-aa22-4f34-806d-3f6700b2281c"
      },
      "source": [
        "#Create a TextBlob Object for future requests\n",
        "obj = TextBlob(text)\n",
        "\n",
        "#Return values in range -1 to 1 [-1,0,1]\n",
        "sentiment = obj.sentiment.polarity\n",
        "print(sentiment)"
      ],
      "execution_count": 8,
      "outputs": [
        {
          "output_type": "stream",
          "text": [
            "0.152\n"
          ],
          "name": "stdout"
        }
      ]
    },
    {
      "cell_type": "code",
      "metadata": {
        "id": "EyHCw3gXeQgg",
        "colab_type": "code",
        "colab": {
          "base_uri": "https://localhost:8080/",
          "height": 34
        },
        "outputId": "c57de149-7d1d-4ea6-90b0-66de7ffd0b3c"
      },
      "source": [
        "if sentiment == 0:\n",
        "  print('This Article is Neutral')\n",
        "\n",
        "elif sentiment>0:\n",
        "  print('This Article is Positive ')\n",
        "\n",
        "else:\n",
        "  print('This Article is Negative')"
      ],
      "execution_count": 9,
      "outputs": [
        {
          "output_type": "stream",
          "text": [
            "This Article is Positive \n"
          ],
          "name": "stdout"
        }
      ]
    }
  ]
}